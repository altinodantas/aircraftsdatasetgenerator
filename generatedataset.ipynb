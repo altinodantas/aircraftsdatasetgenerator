{
 "cells": [
  {
   "cell_type": "markdown",
   "metadata": {},
   "source": [
    "# Creating dataset from JetPhotos\n",
    "\n",
    "Use this implementation to create a dataset on aircraft models. "
   ]
  },
  {
   "cell_type": "code",
   "execution_count": 11,
   "metadata": {
    "id": "Jh57_-On7t0A"
   },
   "outputs": [],
   "source": [
    "import requests\n",
    "from bs4 import BeautifulSoup\n",
    "import pandas as pd\n",
    "import os\n",
    "import urllib.request\n",
    "import sys\n",
    "from pathlib import Path\n",
    "\n",
    "opener = urllib.request.URLopener()\n",
    "opener.addheader('User-Agent', 'whatever')\n"
   ]
  },
  {
   "cell_type": "markdown",
   "metadata": {},
   "source": [
    "### Generate training data"
   ]
  },
  {
   "cell_type": "code",
   "execution_count": 36,
   "metadata": {},
   "outputs": [
    {
     "name": "stdout",
     "output_type": "stream",
     "text": [
      "\n",
      "Searching for Embraer+190-200IGW\n",
      "****************************************\n",
      "\n",
      "Downloading images at page [1]\n",
      "\n",
      " \tNumber of samples downloaded from page 1: 52\n",
      "\n",
      "Total samples for Aircraft Embraer+190-200IGW: 52\n",
      "\n",
      "::::::::::::::::::::::::::::::::::::::::::::::::::\n",
      "All done\n",
      "::::::::::::::::::::::::::::::::::::::::::::::::::\n"
     ]
    }
   ],
   "source": [
    "run([\"Embraer+190-200IGW\", \"Embraer+190-400STD\", \"Airbus+A220-371\"], range(1,11), \"dataset/train/\")"
   ]
  },
  {
   "cell_type": "code",
   "execution_count": 38,
   "metadata": {},
   "outputs": [
    {
     "name": "stdout",
     "output_type": "stream",
     "text": [
      "\n",
      "Searching for Boeing+727%3B\n",
      "****************************************\n",
      "\n",
      "Downloading images at page [11]\n",
      "\n",
      " \tNumber of samples downloaded from page 11: 52\n",
      "\n",
      "Downloading images at page [12]\n",
      "\n",
      " \tNumber of samples downloaded from page 12: 52\n",
      "\n",
      "Downloading images at page [13]\n",
      "\n",
      " \tNumber of samples downloaded from page 13: 52\n",
      "\n",
      "Total samples for Aircraft Boeing+727%3B: 156\n",
      "\n",
      "::::::::::::::::::::::::::::::::::::::::::::::::::\n",
      "All done\n",
      "::::::::::::::::::::::::::::::::::::::::::::::::::\n"
     ]
    }
   ],
   "source": [
    "run([\"Boeing+727%3B\"], range(11,14), \"planes/validation/\")"
   ]
  },
  {
   "cell_type": "markdown",
   "metadata": {},
   "source": [
    "### Generate validation data"
   ]
  },
  {
   "cell_type": "code",
   "execution_count": 35,
   "metadata": {},
   "outputs": [
    {
     "name": "stdout",
     "output_type": "stream",
     "text": [
      "\n",
      "Searching for Embraer+190-200IGW\n",
      "****************************************\n",
      "\n",
      "Downloading images at page [11]\n",
      "\n",
      " \tNumber of samples downloaded from page 11: 52\n",
      "\n",
      "Downloading images at page [12]\n",
      "\n",
      " \tNumber of samples downloaded from page 12: 52\n",
      "\n",
      "Downloading images at page [13]\n",
      "\n",
      " \tNumber of samples downloaded from page 13: 52\n",
      "\n",
      "Total samples for Aircraft Embraer+190-200IGW: 156\n",
      "\n",
      "\n",
      "Searching for Embraer+190-400STD\n",
      "****************************************\n",
      "\n",
      "Downloading images at page [11]\n",
      "\n",
      " \tNumber of samples downloaded from page 11: 52\n",
      "\n",
      "Downloading images at page [12]\n",
      "\n",
      " \tNumber of samples downloaded from page 12: 52\n",
      "\n",
      "Downloading images at page [13]\n",
      "\n",
      " \tNumber of samples downloaded from page 13: 52\n",
      "\n",
      "Total samples for Aircraft Embraer+190-400STD: 156\n",
      "\n",
      "\n",
      "Searching for Airbus+A220-371\n",
      "****************************************\n",
      "\n",
      "Downloading images at page [11]\n",
      "\n",
      " \tNumber of samples downloaded from page 11: 52\n",
      "\n",
      "Downloading images at page [12]\n",
      "\n",
      " \tNumber of samples downloaded from page 12: 52\n",
      "\n",
      "Downloading images at page [13]\n",
      "\n",
      " \tNumber of samples downloaded from page 13: 52\n",
      "\n",
      "Total samples for Aircraft Airbus+A220-371: 156\n",
      "\n",
      "::::::::::::::::::::::::::::::::::::::::::::::::::\n",
      "All done\n",
      "::::::::::::::::::::::::::::::::::::::::::::::::::\n"
     ]
    }
   ],
   "source": [
    "run([\"Embraer+190-200IGW\", \"Embraer+190-400STD\", \"Airbus+A220-371\"], range(11,14), \"dataset/validation/\")"
   ]
  },
  {
   "cell_type": "code",
   "execution_count": 33,
   "metadata": {},
   "outputs": [],
   "source": [
    "def run(aircraft_models = [], pages = [1,2], dir_name = \"planes/train/\"):\n",
    "    \n",
    "    for model in aircraft_models:\n",
    "\n",
    "        Path(f\"{dir_name}{model}\").mkdir(parents=True, exist_ok=True)\n",
    "\n",
    "        print(f\"\\nSearching for {model}\")\n",
    "        print(\"*\" * 40)\n",
    "\n",
    "        number_of_samples = 0\n",
    "        \n",
    "        for page in pages:\n",
    "            print(f\"\\nDownloading images at page [{page}]\")\n",
    "\n",
    "            html = requests.get(f\"https://www.jetphotos.com/showphotos.php?aircraft={model}&search-type=Advanced&sort-order=0&page={page}\").content\n",
    "            soup = BeautifulSoup(html, 'html.parser')\n",
    "\n",
    "            images_tag = soup.find_all(\"img\")\n",
    "\n",
    "            count = 0\n",
    "            for img in images_tag:\n",
    "              if img.get('class')[0] == \"result__photo\":\n",
    "\n",
    "                imgName = img.get('src').split(\"/\")[5]\n",
    "                imgURL = \"https:\"+img.get('src')\n",
    "\n",
    "                filename, headers = opener.retrieve(imgURL, f\"{dir_name}{model}/{imgName}\")\n",
    "                \n",
    "                count += 1\n",
    "                \n",
    "                ##########\n",
    "            \n",
    "            print(f\"\\n \\tNumber of samples downloaded from page {page}: {count}\")\n",
    "            number_of_samples += count\n",
    "            \n",
    "        print(f\"\\nTotal samples for Aircraft {model}: {number_of_samples}\\n\")\n",
    "\n",
    "    print(\":\" * 50)\n",
    "    print(\"All done\")\n",
    "    print(\":\" * 50)"
   ]
  },
  {
   "cell_type": "code",
   "execution_count": null,
   "metadata": {},
   "outputs": [],
   "source": [
    "https://www.jetphotos.com/showphotos.php?aircraft=Boeing+727%3B&airline=all&country-location=all&photographer-group=all&keywords-contain=3&keywords=&photo-year=all&genre=all&search-type=Advanced&sort-order=0"
   ]
  }
 ],
 "metadata": {
  "colab": {
   "name": "Downloading-airplanes-from-jetphotos.ipynb",
   "provenance": []
  },
  "kernelspec": {
   "display_name": "Python 3",
   "language": "python",
   "name": "python3"
  },
  "language_info": {
   "codemirror_mode": {
    "name": "ipython",
    "version": 3
   },
   "file_extension": ".py",
   "mimetype": "text/x-python",
   "name": "python",
   "nbconvert_exporter": "python",
   "pygments_lexer": "ipython3",
   "version": "3.8.8"
  }
 },
 "nbformat": 4,
 "nbformat_minor": 1
}
